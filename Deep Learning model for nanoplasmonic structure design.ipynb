{
 "cells": [
  {
   "cell_type": "markdown",
   "metadata": {},
   "source": [
    "# Assumptions\n",
    "### X_train1 is a dataframe with each column having y-coordinates of graph 1. This data will be continous variables. Each column of the dataframe will be a y-coordinate. \n",
    "### X_train2 is another such data of graph 2.\n",
    "### X_train3 will be the data of material proprerties with each column as properties."
   ]
  },
  {
   "cell_type": "markdown",
   "metadata": {},
   "source": [
    "###  Each column of the y_train will be a geometry feature."
   ]
  },
  {
   "cell_type": "markdown",
   "metadata": {},
   "source": [
    "# Inverse DNN"
   ]
  },
  {
   "cell_type": "code",
   "execution_count": 3,
   "metadata": {},
   "outputs": [],
   "source": [
    "from keras import layers"
   ]
  },
  {
   "cell_type": "code",
   "execution_count": 4,
   "metadata": {},
   "outputs": [],
   "source": [
    "def model1(x):\n",
    "    x = layers.Dense(43, activation = 'relu')(x)\n",
    "    x = layers.Dense(43, activation = 'relu')(x)\n",
    "    x = layers.Dense(100, activation = 'relu')(x)\n",
    "    return x"
   ]
  },
  {
   "cell_type": "code",
   "execution_count": 5,
   "metadata": {},
   "outputs": [],
   "source": [
    "def model2(output1,output2,output3):\n",
    "    \n",
    "    x = layers.Concatenate()([output1,output2,output3])\n",
    "    x = layers.Dense(100, activation = 'relu')(x)\n",
    "    x = layers.Dense(750, activation = 'relu')(x)\n",
    "    x = layers.Dense(750, activation = 'relu')(x)\n",
    "    x = layers.Dense(750, activation = 'relu')(x)\n",
    "    x = layers.Dense(750, activation = 'relu')(x)\n",
    "    x = layers.Dense(750, activation = 'relu')(x)\n",
    "    x = layers.Dense(750, activation = 'relu')(x)\n",
    "    x = layers.Dense(750, activation = 'relu')(x)\n",
    "    \n",
    "    x = layers.Dense(1, activation = 'linear')(x)\n",
    "    return x"
   ]
  },
  {
   "cell_type": "code",
   "execution_count": 6,
   "metadata": {},
   "outputs": [],
   "source": [
    "# Need to define input1,input2,input3"
   ]
  },
  {
   "cell_type": "code",
   "execution_count": null,
   "metadata": {},
   "outputs": [],
   "source": []
  }
 ],
 "metadata": {
  "kernelspec": {
   "display_name": "Python 3",
   "language": "python",
   "name": "python3"
  },
  "language_info": {
   "codemirror_mode": {
    "name": "ipython",
    "version": 3
   },
   "file_extension": ".py",
   "mimetype": "text/x-python",
   "name": "python",
   "nbconvert_exporter": "python",
   "pygments_lexer": "ipython3",
   "version": "3.7.4"
  }
 },
 "nbformat": 4,
 "nbformat_minor": 2
}
